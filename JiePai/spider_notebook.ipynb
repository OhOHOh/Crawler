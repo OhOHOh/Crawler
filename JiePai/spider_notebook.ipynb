{
 "cells": [
  {
   "cell_type": "code",
   "execution_count": 1,
   "metadata": {},
   "outputs": [],
   "source": [
    "from urllib.parse import urlencode\n",
    "from requests.exceptions import RequestException\n",
    "import requests\n",
    "from bs4 import BeautifulSoup\n",
    "import re, json\n",
    "\n",
    "\n",
    "def get_page_index(offset, keyword):\n",
    "    '''\n",
    "    获取 20 行的美图, 返回含有 20 行美图的图片地址的 JSON 数据\n",
    "    :param offset: 偏移量, int 0, 20, 40, 60, ...\n",
    "    :param keyword: string '街拍'\n",
    "    :return: 返回通过 Ajax 请求而获得的 数据, 将 String 类型转化为 json 类型, 再 return\n",
    "    '''\n",
    "    data = {\n",
    "        'offset': offset,\n",
    "        'format': 'json',\n",
    "        'keyword': keyword,\n",
    "        'autoload': 'true',\n",
    "        'count': 20,\n",
    "        'cur_tab': 3,\n",
    "        'from': 'gallery'\n",
    "    }\n",
    "    try:\n",
    "        url = 'https://www.toutiao.com/search_content/?' + urlencode(data)\n",
    "        response = requests.get(url)\n",
    "        if response.status_code == 200:\n",
    "            print('response.text的属性: {0}'.format(type(response.text)))\n",
    "            return json.loads(response.text)\n",
    "        else:\n",
    "            return response.status_code\n",
    "    except RequestException:\n",
    "        print('RequestException, 请求索引页出错')\n",
    "        return None\n",
    "\n",
    "\n",
    "def parse_page_index(html):\n",
    "    '''\n",
    "    对含有 20 行美图的图片地址的 JSON 数据进行解析, 提取出 图片地址\n",
    "    :param html: 输入的 JSON 数据\n",
    "    :return: list,\n",
    "    '''"
   ]
  },
  {
   "cell_type": "code",
   "execution_count": 3,
   "metadata": {},
   "outputs": [],
   "source": [
    "def main():\n",
    "    html = get_page_index(0, '街拍')\n",
    "    print(html)\n",
    "    data = html['data']\n",
    "    print(data)"
   ]
  },
  {
   "cell_type": "code",
   "execution_count": null,
   "metadata": {},
   "outputs": [],
   "source": [
    "if __name__ == '__main__':\n",
    "    main()"
   ]
  }
 ],
 "metadata": {
  "kernelspec": {
   "display_name": "Python 3",
   "language": "python",
   "name": "python3"
  },
  "language_info": {
   "codemirror_mode": {
    "name": "ipython",
    "version": 3
   },
   "file_extension": ".py",
   "mimetype": "text/x-python",
   "name": "python",
   "nbconvert_exporter": "python",
   "pygments_lexer": "ipython3",
   "version": "3.6.2"
  }
 },
 "nbformat": 4,
 "nbformat_minor": 2
}
